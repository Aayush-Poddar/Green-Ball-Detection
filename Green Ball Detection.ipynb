{
 "cells": [
  {
   "cell_type": "code",
   "execution_count": 3,
   "metadata": {},
   "outputs": [],
   "source": [
    "import cv2\n",
    "import numpy as np\n",
    "\n",
    "video=cv2.VideoCapture(0,cv2.CAP_DSHOW)\n",
    "\n",
    "while True:\n",
    "    check,frame=video.read()\n",
    "\n",
    "    frame2=cv2.cvtColor(frame,cv2.COLOR_BGR2HSV)\n",
    "    \n",
    "    l_r = np.array([36, 50, 70])\n",
    "    u_r = np.array([89, 255, 255])\n",
    "    \n",
    "    mask=cv2.inRange(frame2,l_r,u_r)\n",
    "    res=cv2.bitwise_and(frame,frame,mask=mask)\n",
    "    gray=cv2.cvtColor(res,cv2.COLOR_BGR2GRAY)\n",
    "    gray=cv2.medianBlur(gray,5)\n",
    "    \n",
    "    circles=cv2.HoughCircles(gray,cv2.HOUGH_GRADIENT,1,150,param1=200,param2=18,minRadius=0,maxRadius=0)\n",
    "    if circles is not None:     \n",
    "         # helps to convert the floating point coordiantes to integer coordiinates allowing us to draw them on our output image\n",
    "         circles = np.round(circles[0, :]).astype(\"int\")\n",
    "         font=cv2.FONT_HERSHEY_SIMPLEX\n",
    "         cv2.putText(frame,\"Green Ball\",(circles[0][0]+circles[0][2]+1,circles[0][1]),font,1,(255,0,0),2)\n",
    "         for (x,y,r) in circles:\n",
    "            cv2.circle(frame, (x,y), r, (0,255,0), 4)\n",
    "            cv2.circle(frame,(x,y),2,(0,255,0),3)\n",
    "         \n",
    "    cv2.imshow(\"frame\",frame)\n",
    "    key=cv2.waitKey(1)\n",
    "    \n",
    "    if key==ord('s'):\n",
    "        break    \n",
    "    if not check:\n",
    "        break\n",
    "\n",
    "video.release()\n",
    "cv2.destroyAllWindows()"
   ]
  },
  {
   "cell_type": "code",
   "execution_count": null,
   "metadata": {},
   "outputs": [],
   "source": []
  }
 ],
 "metadata": {
  "kernelspec": {
   "display_name": "Python 3",
   "language": "python",
   "name": "python3"
  },
  "language_info": {
   "codemirror_mode": {
    "name": "ipython",
    "version": 3
   },
   "file_extension": ".py",
   "mimetype": "text/x-python",
   "name": "python",
   "nbconvert_exporter": "python",
   "pygments_lexer": "ipython3",
   "version": "3.8.5"
  }
 },
 "nbformat": 4,
 "nbformat_minor": 4
}
